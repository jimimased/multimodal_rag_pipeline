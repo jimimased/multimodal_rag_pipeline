{
 "cells": [
  {
   "cell_type": "markdown",
   "metadata": {},
   "source": [
    "# Analyzing Artistic Styles with Multimodal RAG Pipeline\n",
    "\n",
    "This notebook demonstrates how to use the Multimodal RAG Pipeline for analyzing artistic styles in images, similar to the approach described in the [Hugging Face cookbook article on analyzing art](https://huggingface.co/learn/cookbook/en/analyzing_art_with_hf_and_fiftyone).\n",
    "\n",
    "We'll cover:\n",
    "1. Setting up the environment\n",
    "2. Loading a collection of artwork images\n",
    "3. Analyzing artistic styles using multimodal embeddings\n",
    "4. Creating a style similarity matrix\n",
    "5. Visualizing style relationships\n",
    "6. Using style analysis in a RAG context"
   ]
  },
  {
   "cell_type": "markdown",
   "metadata": {},
   "source": [
    "## 1. Setup\n",
    "\n",
    "First, let's set up the environment and install the necessary dependencies."
   ]
  },
  {
   "cell_type": "code",
   "execution_count": null,
   "metadata": {},
   "outputs": [],
   "source": [
    "!pip install git+https://github.com/YOUR_USERNAME/multimodal_rag_pipeline.git\n",
    "!pip install clip torch torchvision matplotlib seaborn scikit-learn umap-learn fiftyone"
   ]
  },
  {
   "cell_type": "code",
   "execution_count": null,
   "metadata": {},
   "outputs": [],
   "source": [
    "import os\n",
    "import numpy as np\n",
    "import matplotlib.pyplot as plt\n",
    "import seaborn as sns\n",
    "from PIL import Image\n",
    "import torch\n",
    "import clip\n",
    "from sklearn.manifold import TSNE\n",
    "import umap\n",
    "import io\n",
    "import requests\n",
    "from pathlib import Path\n",
    "import fiftyone as fo\n",
    "\n",
    "# Import from multimodal_rag_pipeline\n",
    "from multimodal_rag_pipeline.content_processing.image_analysis.style_analyzer import (\n",
    "    create_style_analyzer, \n",
    "    create_style_similarity_matrix,\n",
    "    find_similar_images\n",
    ")"
   ]
  },
  {
   "cell_type": "markdown",
   "metadata": {},
   "source": [
    "## 2. Create Style Analyzer\n",
    "\n",
    "Let's create a style analyzer using the CLIP model."
   ]
  },
  {
   "cell_type": "code",
   "execution_count": null,
   "metadata": {},
   "outputs": [],
   "source": [
    "# Create a configuration for style analysis\n",
    "style_config = {\n",
    "    \"enabled\": True,\n",
    "    \"model\": \"clip\",  # Options: clip, vit, custom\n",
    "    \"use_gpu\": torch.cuda.is_available()\n",
    "}\n",
    "\n",
    "# Create the style analyzer\n",
    "style_analyzer = create_style_analyzer(style_config)\n",
    "\n",
    "print(f\"Style analyzer created with model: {style_config['model']}\")\n",
    "print(f\"Using GPU: {style_config['use_gpu']}\")"
   ]
  },
  {
   "cell_type": "markdown",
   "metadata": {},
   "source": [
    "## 3. Download Sample Artwork Images\n",
    "\n",
    "Let's download some sample artwork images from different artistic styles for our analysis."
   ]
  },
  {
   "cell_type": "code",
   "execution_count": null,
   "metadata": {},
   "outputs": [],
   "source": [
    "# Function to download an image from a URL\n",
    "def download_image(url, filename=None):\n",
    "    response = requests.get(url, stream=True)\n",
    "    if response.status_code == 200:\n",
    "        image = Image.open(io.BytesIO(response.content))\n",
    "        if filename:\n",
    "            image.save(filename)\n",
    "        return image, response.content\n",
    "    else:\n",
    "        print(f\"Failed to download image: {url}\")\n",
    "        return None, None\n",
    "\n",
    "# Create a directory for artwork images\n",
    "artwork_dir = Path(\"artwork_images\")\n",
    "artwork_dir.mkdir(exist_ok=True)\n",
    "\n",
    "# Sample artwork URLs with different styles\n",
    "artwork_data = [\n",
    "    {\"url\": \"https://upload.wikimedia.org/wikipedia/commons/thumb/e/ea/Van_Gogh_-_Starry_Night_-_Google_Art_Project.jpg/1280px-Van_Gogh_-_Starry_Night_-_Google_Art_Project.jpg\", \n",
    "     \"title\": \"Starry Night\", \"artist\": \"Vincent van Gogh\", \"style\": \"Post-Impressionism\"},\n",
    "    {\"url\": \"https://upload.wikimedia.org/wikipedia/commons/thumb/4/4c/Monet_-_Impression%2C_Sunrise.jpg/1280px-Monet_-_Impression%2C_Sunrise.jpg\", \n",
    "     \"title\": \"Impression, Sunrise\", \"artist\": \"Claude Monet\", \"style\": \"Impressionism\"},\n",
    "    {\"url\": \"https://upload.wikimedia.org/wikipedia/en/thumb/7/74/PicassoGuernica.jpg/1280px-PicassoGuernica.jpg\", \n",
    "     \"title\": \"Guernica\", \"artist\": \"Pablo Picasso\", \"style\": \"Cubism\"},\n",
    "    {\"url\": \"https://upload.wikimedia.org/wikipedia/en/thumb/d/dd/The_Persistence_of_Memory.jpg/1280px-The_Persistence_of_Memory.jpg\", \n",
    "     \"title\": \"The Persistence of Memory\", \"artist\": \"Salvador Dalí\", \"style\": \"Surrealism\"},\n",
    "    {\"url\": \"https://upload.wikimedia.org/wikipedia/en/thumb/9/95/Warhol-Campbell_Soup-1-screenprint-1968.jpg/1280px-Warhol-Campbell_Soup-1-screenprint-1968.jpg\", \n",
    "     \"title\": \"Campbell's Soup Cans\", \"artist\": \"Andy Warhol\", \"style\": \"Pop Art\"}\n",
    "]\n",
    "\n",
    "# Download and save the images\n",
    "artwork_images = []\n",
    "\n",
    "for idx, item in enumerate(artwork_data):\n",
    "    filename = artwork_dir / f\"{idx+1:02d}_{item['artist'].replace(' ', '_')}_{item['title'].replace(' ', '_')}.jpg\"\n",
    "    print(f\"Downloading {item['title']} by {item['artist']}...\")\n",
    "    \n",
    "    image, image_data = download_image(item['url'], filename)\n",
    "    \n",
    "    if image is not None:\n",
    "        # Create image dictionary\n",
    "        image_dict = {\n",
    "            'id': f\"artwork_{idx+1}\",\n",
    "            'title': item['title'],\n",
    "            'artist': item['artist'],\n",
    "            'style': item['style'],\n",
    "            'image_path': str(filename),\n",
    "            'image_data': image_data\n",
    "        }\n",
    "        \n",
    "        artwork_images.append(image_dict)\n",
    "\n",
    "print(f\"\\nDownloaded {len(artwork_images)} artwork images\")"
   ]
  },
  {
   "cell_type": "markdown",
   "metadata": {},
   "source": [
    "## 4. Analyze Artistic Styles\n",
    "\n",
    "Now let's analyze the artistic styles of the downloaded images."
   ]
  },
  {
   "cell_type": "code",
   "execution_count": null,
   "metadata": {},
   "outputs": [],
   "source": [
    "# Analyze each artwork\n",
    "for artwork in artwork_images:\n",
    "    print(f\"\\nAnalyzing {artwork['title']} by {artwork['artist']} ({artwork['style']})...\")\n",
    "    \n",
    "    # Analyze style\n",
    "    style_analysis = style_analyzer.analyze(artwork)\n",
    "    \n",
    "    # Print style classification\n",
    "    print(\"Style classification:\")\n",
    "    for style, confidence in style_analysis['style_classification']:\n",
    "        print(f\"  {style}: {confidence:.2f}\")\n",
    "    \n",
    "    # Store style analysis results in the artwork dictionary\n",
    "    artwork['style_analysis'] = style_analysis"
   ]
  },
  {
   "cell_type": "markdown",
   "metadata": {},
   "source": [
    "## 5. Create Style Similarity Matrix\n",
    "\n",
    "Let's create a style similarity matrix to see how the different artworks relate to each other in terms of style."
   ]
  },
  {
   "cell_type": "code",
   "execution_count": null,
   "metadata": {},
   "outputs": [],
   "source": [
    "# Create style similarity matrix\n",
    "similarity_data = create_style_similarity_matrix(artwork_images, style_analyzer)\n",
    "\n",
    "# Extract data for visualization\n",
    "similarity_matrix = np.array(similarity_data['similarity_matrix'])\n",
    "image_ids = similarity_data['image_ids']\n",
    "\n",
    "# Create labels for the heatmap\n",
    "labels = [f\"{artwork['artist']} - {artwork['title']}\" for artwork in artwork_images]\n",
    "\n",
    "# Plot similarity matrix as a heatmap\n",
    "plt.figure(figsize=(12, 10))\n",
    "sns.heatmap(similarity_matrix, annot=True, fmt=\".2f\", cmap=\"viridis\", \n",
    "            xticklabels=labels, yticklabels=labels)\n",
    "plt.title(\"Artistic Style Similarity Matrix\")\n",
    "plt.xticks(rotation=45, ha=\"right\")\n",
    "plt.yticks(rotation=0)\n",
    "plt.tight_layout()\n",
    "plt.show()"
   ]
  },
  {
   "cell_type": "markdown",
   "metadata": {},
   "source": [
    "## 6. Visualize Style Embeddings\n",
    "\n",
    "Let's visualize the style embeddings using dimensionality reduction techniques like t-SNE and UMAP."
   ]
  },
  {
   "cell_type": "code",
   "execution_count": null,
   "metadata": {},
   "outputs": [],
   "source": [
    "# Extract style embeddings\n",
    "embeddings = [artwork['style_analysis']['style_embedding'] for artwork in artwork_images]\n",
    "embeddings_array = np.array(embeddings)\n",
    "\n",
    "# Create labels and colors for the plot\n",
    "styles = [artwork['style'] for artwork in artwork_images]\n",
    "unique_styles = list(set(styles))\n",
    "style_to_color = {style: plt.cm.tab10(i) for i, style in enumerate(unique_styles)}\n",
    "colors = [style_to_color[style] for style in styles]\n",
    "\n",
    "# Reduce dimensionality with t-SNE\n",
    "tsne = TSNE(n_components=2, random_state=42)\n",
    "tsne_result = tsne.fit_transform(embeddings_array)\n",
    "\n",
    "# Reduce dimensionality with UMAP\n",
    "umap_reducer = umap.UMAP(random_state=42)\n",
    "umap_result = umap_reducer.fit_transform(embeddings_array)\n",
    "\n",
    "# Plot t-SNE results\n",
    "plt.figure(figsize=(12, 5))\n",
    "\n",
    "plt.subplot(1, 2, 1)\n",
    "for i, (x, y) in enumerate(tsne_result):\n",
    "    plt.scatter(x, y, color=colors[i], label=styles[i])\n",
    "    plt.annotate(artwork_images[i]['artist'], (x, y), fontsize=8)\n",
    "plt.title(\"t-SNE Visualization of Style Embeddings\")\n",
    "handles, labels = plt.gca().get_legend_handles_labels()\n",
    "by_label = dict(zip(labels, handles))\n",
    "plt.legend(by_label.values(), by_label.keys())\n",
    "\n",
    "# Plot UMAP results\n",
    "plt.subplot(1, 2, 2)\n",
    "for i, (x, y) in enumerate(umap_result):\n",
    "    plt.scatter(x, y, color=colors[i], label=styles[i])\n",
    "    plt.annotate(artwork_images[i]['artist'], (x, y), fontsize=8)\n",
    "plt.title(\"UMAP Visualization of Style Embeddings\")\n",
    "handles, labels = plt.gca().get_legend_handles_labels()\n",
    "by_label = dict(zip(labels, handles))\n",
    "plt.legend(by_label.values(), by_label.keys())\n",
    "\n",
    "plt.tight_layout()\n",
    "plt.show()"
   ]
  },
  {
   "cell_type": "markdown",
   "metadata": {},
   "source": [
    "## 7. Find Similar Artworks\n",
    "\n",
    "Let's find artworks with similar styles to a query artwork."
   ]
  },
  {
   "cell_type": "code",
   "execution_count": null,
   "metadata": {},
   "outputs": [],
   "source": [
    "# Select a query artwork (e.g., Van Gogh's Starry Night)\n",
    "query_idx = 0  # Change this to select a different query artwork\n",
    "query_artwork = artwork_images[query_idx]\n",
    "\n",
    "print(f\"Query artwork: {query_artwork['title']} by {query_artwork['artist']} ({query_artwork['style']})\")\n",
    "\n",
    "# Find similar artworks\n",
    "similar_artworks = find_similar_images(query_artwork, artwork_images, style_analyzer, top_k=3)\n",
    "\n",
    "# Display query artwork\n",
    "plt.figure(figsize=(15, 10))\n",
    "plt.subplot(2, 2, 1)\n",
    "query_image = Image.open(query_artwork['image_path'])\n",
    "plt.imshow(query_image)\n",
    "plt.title(f\"Query: {query_artwork['title']}\\n{query_artwork['artist']} ({query_artwork['style']})\")\n",
    "plt.axis('off')\n",
    "\n",
    "# Display similar artworks\n",
    "for i, similar in enumerate(similar_artworks):\n",
    "    plt.subplot(2, 2, i+2)\n",
    "    similar_image = Image.open(similar['image']['image_path'])\n",
    "    plt.imshow(similar_image)\n",
    "    plt.title(f\"{similar['image']['title']}\\n{similar['image']['artist']} ({similar['image']['style']})\\nSimilarity: {similar['similarity']:.2f}\")\n",
    "    plt.axis('off')\n",
    "\n",
    "plt.tight_layout()\n",
    "plt.show()"
   ]
  },
  {
   "cell_type": "markdown",
   "metadata": {},
   "source": [
    "## 8. Integration with RAG Pipeline\n",
    "\n",
    "This style analysis component can be integrated into the full multimodal RAG pipeline to enable:\n",
    "\n",
    "1. **Style-based retrieval**: Find documents or images with similar artistic styles\n",
    "2. **Style-aware generation**: Generate responses that incorporate knowledge of artistic styles\n",
    "3. **Cross-modal queries**: Answer questions about artistic styles using both text and image inputs\n",
    "\n",
    "The style analyzer we've implemented follows the same approach as described in the [Hugging Face cookbook article on analyzing art](https://huggingface.co/learn/cookbook/en/analyzing_art_with_hf_and_fiftyone), but is integrated into our modular RAG pipeline architecture."
   ]
  }
 ],
 "metadata": {
  "kernelspec": {
   "display_name": "Python 3",
   "language": "python",
   "name": "python3"
  },
  "language_info": {
   "codemirror_mode": {
    "name": "ipython",
    "version": 3
   },
   "file_extension": ".py",
   "mimetype": "text/x-python",
   "name": "python",
   "nbconvert_exporter": "python",
   "pygments_lexer": "ipython3",
   "version": "3.9.16"
  }
 },
 "nbformat": 4,
 "nbformat_minor": 4
}
